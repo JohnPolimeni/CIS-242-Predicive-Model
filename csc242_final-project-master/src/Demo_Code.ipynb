{
 "cells": [
  {
   "cell_type": "code",
   "execution_count": 4,
   "metadata": {},
   "outputs": [],
   "source": [
    "import pandas as pd\n",
    "from sklearn.model_selection import train_test_split\n",
    "from sklearn.preprocessing import StandardScaler\n",
    "from sklearn.model_selection import GridSearchCV\n",
    "from sklearn.svm import SVC\n",
    "import numpy as np\n",
    "from sklearn.metrics import accuracy_score\n",
    "import warnings\n",
    "warnings.filterwarnings('ignore')\n",
    "from sklearn import linear_model, metrics\n",
    "import matplotlib.pyplot as plt"
   ]
  },
  {
   "cell_type": "code",
   "execution_count": 22,
   "metadata": {},
   "outputs": [
    {
     "data": {
      "text/plain": [
       "(9861, 26)"
      ]
     },
     "execution_count": 22,
     "metadata": {},
     "output_type": "execute_result"
    }
   ],
   "source": [
    "df = pd.read_csv('../data/final_cleaned.csv', na_values = -9)\n",
    "df = df.dropna()\n",
    "df.shape"
   ]
  },
  {
   "cell_type": "code",
   "execution_count": 25,
   "metadata": {},
   "outputs": [
    {
     "name": "stdout",
     "output_type": "stream",
     "text": [
      "0.7214111922141119\n"
     ]
    },
    {
     "data": {
      "text/plain": [
       "LogisticRegression(C=0.1, class_weight=None, dual=False, fit_intercept=True,\n",
       "          intercept_scaling=1, max_iter=1000, multi_class='ovr', n_jobs=1,\n",
       "          penalty='l1', random_state=None, solver='liblinear', tol=0.0001,\n",
       "          verbose=0, warm_start=False)"
      ]
     },
     "execution_count": 25,
     "metadata": {},
     "output_type": "execute_result"
    }
   ],
   "source": [
    "usecols = ['ExternalRiskEstimate','NumSatisfactoryTrades','MaxDelq2PublicRecLast12M','MaxDelqEver','MSinceMostRecentInqexcl7days','NumInqLast6M',\\\n",
    "           'NumInqLast6Mexcl7days','NumRevolvingTradesWBalance', 'NumBank2NatlTradesWHighUtilization','y']\n",
    "\n",
    "new_df =  df[usecols]\n",
    "\n",
    "X = new_df.drop('y', axis= 1)\n",
    "Y = new_df['y']\n",
    "\n",
    "C = [0.003, 0.01,0.03, 0.1, 0.3, 1,3,10,30,100,300,1000, 3000, 10000, 30000, 100000, 300000]\n",
    "best_acc = 0\n",
    "best_c = None\n",
    "X_train, X_test, y_train, y_test = train_test_split(X,Y)\n",
    "\n",
    "for c in C:\n",
    "    clf = linear_model.LogisticRegression(penalty='l1', C=c, \n",
    "                                                      intercept_scaling=1, \n",
    "                                                      solver='liblinear',\n",
    "                                                      max_iter=1000)\n",
    "        \n",
    "    clf.fit(X_train, y_train)\n",
    "    y_pred = clf.predict(X_test.values)\n",
    "    acc = metrics.accuracy_score(y_pred,y_test)\n",
    "\n",
    "#  only use new hyper parameter if better by thresh amount\n",
    "    if(acc > best_acc):\n",
    "        best_acc = acc\n",
    "        best_c = c\n",
    "\n",
    "print(best_acc)\n",
    "clf = linear_model.LogisticRegression(penalty='l1', C=best_c, \n",
    "                                                  intercept_scaling=1, \n",
    "                                                  solver='liblinear',\n",
    "                                                  max_iter=1000)\n",
    "clf.fit(X_train,y_train)"
   ]
  },
  {
   "cell_type": "code",
   "execution_count": 26,
   "metadata": {},
   "outputs": [],
   "source": [
    "df = pd.read_csv('../data/heloc_dataset_v1.csv')\n",
    "df = pd.DataFrame(df)\n",
    "\n",
    "pos_coeffs = [usecols[0], usecols[1], usecols[2], usecols[4], usecols[6]]\n",
    "\n",
    "data_cutoffs = {}\n",
    "\n",
    "for i in usecols[:-1]:\n",
    "    percentiles = pd.Series(df[i])\n",
    "    x = percentiles.quantile([.4,.6])\n",
    "    vals = x.values                            \n",
    "    if i in pos_coeffs:\n",
    "         data_cutoffs[i] = [-1 * vals[1], -1 * vals[0]]\n",
    "    else:\n",
    "        data_cutoffs[i] = [vals[0], vals[1]]"
   ]
  },
  {
   "cell_type": "code",
   "execution_count": 28,
   "metadata": {},
   "outputs": [
    {
     "name": "stdout",
     "output_type": "stream",
     "text": [
      "[[11.0, 1.0, 1.0, 1.0, 1.0, 1.0, 1.0, 1.0, 1.0]]\n",
      "0\n",
      "[[2.0, 1.0, 1.0, 1.0, 1.0, 1.0, 1.0, 1.0, 1.0]]\n",
      "0\n",
      "[[2.0, 1.0, 1.0, 122222.0, 1.0, 1.0, 1.0, 1.0, 1.0]]\n",
      "0\n",
      "[[0.0, 0.0, 0.0, 0.0, 1.0, 1.0, 1.0, 1.0, 1.0]]\n",
      "0\n",
      "[[0.0, 0.0, 0.0, 0.0, 1.0, 1.0, 777.0, 1.0, 1.0]]\n",
      "1\n"
     ]
    }
   ],
   "source": [
    "# %%python\n",
    "from tkinter import Tk, Label, Button, Entry, IntVar, StringVar, END, W, E\n",
    "\n",
    "class Calculator:\n",
    "\n",
    "    def __init__(self, master):\n",
    "        self.master = master\n",
    "        master.title(\"Sub Prime Mortgage\")\n",
    "        vcmd = master.register(self.validate) # we have to wrap the command\n",
    "        \n",
    "        # LISTS TO CONTAIN REFERENCES TO WIDGETS\n",
    "        self.param_values = list()\n",
    "        self.param_value_types = list()\n",
    "        self.param_labels = list()\n",
    "        self.param_entries = list()\n",
    "        \n",
    "        # CREATING WIDGETS (ENTRIES AND LABELS)\n",
    "        for var in usecols[:-1]:\n",
    "            param_value = 0\n",
    "            param_label = Label(master, text=var)\n",
    "            param = IntVar()\n",
    "            param.set(param_value)\n",
    "            param_entry = Entry(master, validate=\"key\", validatecommand=(vcmd, '%P'))\n",
    "            \n",
    "            self.param_values.append(param_value)\n",
    "            self.param_labels.append(param_label)\n",
    "            self.param_value_types.append(param)\n",
    "            self.param_entries.append(param_entry)\n",
    "        \n",
    "        self.result_label_text = StringVar()\n",
    "        self.result_label = Label(master, textvariable=self.result_label_text)\n",
    "        self.submit_button = Button(master, text=\"Submit\", command=lambda: self.update(\"submit\"))\n",
    "        \n",
    "        # LAYOUT\n",
    "        for i in range(0, len(self.param_labels)):\n",
    "            self.param_labels[i].grid(row=i, column=0, sticky=W)\n",
    "            self.param_entries[i].grid(row=i, column=1, columnspan=2, sticky=E)\n",
    "        self.submit_button.grid(row=len(self.param_entries), column=1)\n",
    "        self.result_label.grid(row=len(self.param_entries) + 1, column=1)\n",
    "\n",
    "    def validate(self, new_text):\n",
    "        if not new_text: # the field is being cleared\n",
    "            self.entered_number = 0\n",
    "            return True \n",
    "        try:\n",
    "            self.entered_number = int(new_text)\n",
    "            return True\n",
    "        except ValueError:\n",
    "            return False\n",
    "\n",
    "    def update_background_color(self):\n",
    "        i = 0\n",
    "        for entry in self.param_entries:\n",
    "            param = usecols[i]\n",
    "            threshold = data_cutoffs[param]\n",
    "            entry_value = float(entry.get())\n",
    "            \n",
    "            # case where coefficients are positive\n",
    "            if param in pos_coeffs:\n",
    "                entry_value = entry_value * -1 if entry_value == abs(entry_value) else entry_value\n",
    "\n",
    "            if entry_value < threshold[0]:\n",
    "                entry.config({\"background\": \"#baef56\"}) # green\n",
    "            elif entry_value < threshold[1]:\n",
    "                entry.config({\"background\": \"#fffd9b\"}) # yellow\n",
    "            else:\n",
    "                entry.config({\"background\": \"#f7c0c0\"}) # red\n",
    "            i = i + 1\n",
    "    \n",
    "    def update_result_label(self):\n",
    "        entry_vals = [[float(entry.get()) for entry in self.param_entries]]\n",
    "        print(entry_vals)\n",
    "        prediction = clf.predict(entry_vals)[0]\n",
    "        print(prediction)\n",
    "        self.result_label_text.set(\"Result: \" + str(prediction))\n",
    "\n",
    "    def update(self, method):\n",
    "        if method == \"submit\":\n",
    "            self.update_background_color()\n",
    "            self.update_result_label()            \n",
    "                \n",
    "root = Tk()\n",
    "my_gui = Calculator(root)\n",
    "root.mainloop()"
   ]
  },
  {
   "cell_type": "code",
   "execution_count": null,
   "metadata": {},
   "outputs": [],
   "source": []
  }
 ],
 "metadata": {
  "kernelspec": {
   "display_name": "Python 3",
   "language": "python",
   "name": "python3"
  },
  "language_info": {
   "codemirror_mode": {
    "name": "ipython",
    "version": 3
   },
   "file_extension": ".py",
   "mimetype": "text/x-python",
   "name": "python",
   "nbconvert_exporter": "python",
   "pygments_lexer": "ipython3",
   "version": "3.6.5"
  },
  "toc": {
   "base_numbering": 1,
   "nav_menu": {},
   "number_sections": false,
   "sideBar": false,
   "skip_h1_title": false,
   "title_cell": "Table of Contents",
   "title_sidebar": "Contents",
   "toc_cell": false,
   "toc_position": {},
   "toc_section_display": false,
   "toc_window_display": false
  }
 },
 "nbformat": 4,
 "nbformat_minor": 2
}
