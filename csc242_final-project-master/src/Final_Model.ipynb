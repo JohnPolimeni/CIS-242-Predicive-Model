{
 "cells": [
  {
   "cell_type": "code",
   "execution_count": 3,
   "metadata": {},
   "outputs": [],
   "source": [
    "import pandas as pd\n",
    "from sklearn.model_selection import train_test_split\n",
    "from sklearn.preprocessing import StandardScaler\n",
    "from sklearn.model_selection import GridSearchCV\n",
    "from sklearn.svm import SVC\n",
    "import numpy as np\n",
    "from sklearn.metrics import accuracy_score\n",
    "import warnings\n",
    "warnings.filterwarnings('ignore')\n",
    "from sklearn import linear_model, metrics\n",
    "import matplotlib.pyplot as plt"
   ]
  },
  {
   "cell_type": "code",
   "execution_count": 6,
   "metadata": {},
   "outputs": [],
   "source": [
    "df = pd.read_csv('../data/heloc_dataset_v1.csv')"
   ]
  },
  {
   "cell_type": "code",
   "execution_count": 7,
   "metadata": {},
   "outputs": [
    {
     "data": {
      "text/plain": [
       "10459"
      ]
     },
     "execution_count": 7,
     "metadata": {},
     "output_type": "execute_result"
    }
   ],
   "source": [
    "df.shape[0]"
   ]
  },
  {
   "cell_type": "code",
   "execution_count": 8,
   "metadata": {},
   "outputs": [],
   "source": [
    "def label_y(row):\n",
    "    if row['RiskPerformance'] == 'Good':\n",
    "        return 1\n",
    "    else:\n",
    "        return 0"
   ]
  },
  {
   "cell_type": "code",
   "execution_count": 9,
   "metadata": {},
   "outputs": [],
   "source": [
    "df['y'] = df.apply(lambda row: label_y(row),axis=1)"
   ]
  },
  {
   "cell_type": "code",
   "execution_count": 10,
   "metadata": {},
   "outputs": [],
   "source": [
    "del df['RiskPerformance']"
   ]
  },
  {
   "cell_type": "code",
   "execution_count": 11,
   "metadata": {},
   "outputs": [],
   "source": [
    "from sklearn.svm import SVC\n",
    "from sklearn.linear_model import LogisticRegression\n",
    "from sklearn.discriminant_analysis import LinearDiscriminantAnalysis\n",
    "from sklearn.neighbors import KNeighborsClassifier\n",
    "from sklearn.naive_bayes import GaussianNB\n",
    "from sklearn.tree import DecisionTreeClassifier\n",
    "from sklearn.discriminant_analysis import QuadraticDiscriminantAnalysis\n",
    "from sklearn.ensemble import RandomForestClassifier, AdaBoostClassifier\n",
    "    \n",
    "# The function `init_classifiers` returns a list of classifiers to be trained on the datasets\n",
    "def init_classifiers():\n",
    "    return([(SVC(), model_names[0], param_grid_svc), \n",
    "            (LogisticRegression(), model_names[1], param_grid_logistic),\n",
    "            (KNeighborsClassifier(), model_names[2], param_grid_knn),\n",
    "            (GaussianNB(), model_names[3], param_grid_nb),\n",
    "            (DecisionTreeClassifier(), model_names[4], param_grid_tree),\n",
    "            (RandomForestClassifier(), model_names[6], param_grid_rf),\n",
    "            (AdaBoostClassifier(), model_names[7], param_grid_boost)\n",
    "           ])\n",
    "\n",
    "# 'model_names' contains the names  that we will use for the above classifiers\n",
    "model_names = ['SVM','LR','KNN','NB','Tree','QDA','RF','Boosting']\n",
    "\n",
    "# the training parameters of each model\n",
    "param_grid_svc = [{'C':[0.1,1],'kernel':['rbf','linear'], 'max_iter':[-1],'random_state':[1]}]\n",
    "param_grid_logistic = [{'C':[0.1,1], 'penalty':['l1','l2'],'random_state':[1]}]\n",
    "param_grid_knn = [{},{'n_neighbors':[1,2,3,4]}]\n",
    "param_grid_nb = [{}]\n",
    "param_grid_tree = [{'random_state':[1]},{'criterion':['gini'], 'max_depth':[2,3], 'min_samples_split':[3,5],'random_state':[1]}]\n",
    "param_grid_rf = [{'random_state':[1]},{'n_estimators':[10,30],'max_features':[0.2, 0.3], 'bootstrap':[True],'random_state':[1]}]\n",
    "param_grid_boost = [{'random_state':[1]},{'n_estimators':[10,20],'learning_rate':[0.1,1],'random_state':[1]}]"
   ]
  },
  {
   "cell_type": "code",
   "execution_count": 12,
   "metadata": {},
   "outputs": [],
   "source": [
    "from sklearn.svm import SVC\n",
    "from sklearn.linear_model import LogisticRegression\n",
    "    \n",
    "# The function `init_classifiers` returns a list of classifiers to be trained on the datasets\n",
    "def init_classifiers():\n",
    "    return([(SVC(), model_names[0], param_grid_svc), \n",
    "            (LogisticRegression(), model_names[1], param_grid_logistic)])\n",
    "\n",
    "# 'model_names' contains the names  that we will use for the above classifiers\n",
    "model_names = ['SVM','LR']\n",
    "\n",
    "# the training parameters of each model\n",
    "param_grid_svc = [{'C':[0.1,1],'kernel':['rbf','linear'], 'max_iter':[-1],'random_state':[1]}]\n",
    "param_grid_logistic = [{'C':[0.1,1], 'penalty':['l1','l2'],'random_state':[1]}]\n"
   ]
  },
  {
   "cell_type": "code",
   "execution_count": 13,
   "metadata": {},
   "outputs": [],
   "source": [
    "X = df.drop('y', axis= 1)\n",
    "# X = X[:1000]\n",
    "Y = df['y']\n",
    "# Y = Y[:1000]\n"
   ]
  },
  {
   "cell_type": "code",
   "execution_count": 14,
   "metadata": {},
   "outputs": [],
   "source": [
    "models = init_classifiers()"
   ]
  },
  {
   "cell_type": "code",
   "execution_count": 15,
   "metadata": {},
   "outputs": [
    {
     "data": {
      "text/plain": [
       "'LR'"
      ]
     },
     "execution_count": 15,
     "metadata": {},
     "output_type": "execute_result"
    }
   ],
   "source": [
    "models[1][1]"
   ]
  },
  {
   "cell_type": "code",
   "execution_count": null,
   "metadata": {},
   "outputs": [],
   "source": [
    "for model in models:\n",
    "    \n",
    "#     X_train, X_test, y_train, y_test = train_test_split(X,Y)\n",
    "\n",
    "    clf = GridSearchCV(model[0],model[2],cv = 2)\n",
    "\n",
    "    clf.fit(X,Y)\n",
    "    \n",
    "    if model[1] == 'LR':\n",
    "        coef = clf.coef_[0]\n",
    "        pos = [x for x in range(0,len(coef))]\n",
    "        plt.bar(pos,coef, align='center', alpha=0.5)\n",
    "        \n",
    "    y_pred = clf.predict(X)\n",
    "\n",
    "    print('Model ', model)\n",
    "    acc = accuracy_score(Y,y_pred)\n",
    "    print('Accuracy ', acc)"
   ]
  },
  {
   "cell_type": "markdown",
   "metadata": {},
   "source": [
    "### Train the model using all the data, find best hyperparameter"
   ]
  },
  {
   "cell_type": "code",
   "execution_count": null,
   "metadata": {},
   "outputs": [],
   "source": [
    "X = df.drop('y', axis= 1)\n",
    "# X = X[:1000]\n",
    "Y = df['y']\n",
    "# Y = Y[:1000]\n",
    "\n",
    "C = [0.003, 0.01,0.03, 0.1, 0.3, 1,3,10,30,100,300,1000, 3000, 10000, 30000, 100000, 300000]\n",
    "best_acc = 0\n",
    "best_c = None\n",
    "X_train, X_test, y_train, y_test = train_test_split(X,Y)\n",
    "\n",
    "for c in C:\n",
    "        clf = linear_model.LogisticRegression(penalty='l1', C=c, \n",
    "                                                      intercept_scaling=1, \n",
    "                                                      solver='liblinear',\n",
    "                                                      max_iter=1000)\n",
    "        \n",
    "        clf.fit(X_train, y_train)\n",
    "        y_pred = clf.predict(X_test.values)\n",
    "        acc = metrics.accuracy_score(y_pred,y_test)\n",
    "        \n",
    "    #  only use new hyper parameter if better by thresh amount\n",
    "        if(acc > best_acc):\n",
    "            best_acc = acc\n",
    "            best_c = c\n",
    "\n",
    "print(best_acc)\n",
    "clf = linear_model.LogisticRegression(penalty='l1', C=best_c, \n",
    "                                                  intercept_scaling=1, \n",
    "                                                  solver='liblinear',\n",
    "                                                  max_iter=1000)\n",
    "clf.fit(X,Y)\n",
    "coef = clf.coef_[0]\n",
    "pos = [x for x in range(0,len(coef))]\n",
    "plt.bar(pos,coef, align='center', alpha=0.5)"
   ]
  },
  {
   "cell_type": "markdown",
   "metadata": {},
   "source": [
    "### Train the model using only the 10 heighest weights from the coefficient graph above"
   ]
  },
  {
   "cell_type": "code",
   "execution_count": null,
   "metadata": {},
   "outputs": [],
   "source": [
    "usecols = [df.columns[0],df.columns[5],df.columns[6],df.columns[9],df.columns[10],df.columns[12],df.columns[15],df.columns[16],df.columns[19],df.columns[-1]]\n",
    "\n",
    "new_df =  df[usecols]\n",
    "X = new_df.drop('y', axis= 1)\n",
    "Y = new_df['y']\n",
    "\n",
    "C = [0.003, 0.01,0.03, 0.1, 0.3, 1,3,10,30,100,300,1000, 3000, 10000, 30000, 100000, 300000]\n",
    "best_acc = 0\n",
    "best_c = None\n",
    "X_train, X_test, y_train, y_test = train_test_split(X,Y)\n",
    "\n",
    "for c in C:\n",
    "    clf = linear_model.LogisticRegression(penalty='l1', C=c, \n",
    "                                                      intercept_scaling=1, \n",
    "                                                      solver='liblinear',\n",
    "                                                      max_iter=1000)\n",
    "        \n",
    "    clf.fit(X_train, y_train)\n",
    "    y_pred = clf.predict(X_test.values)\n",
    "    acc = metrics.accuracy_score(y_pred,y_test)\n",
    "\n",
    "#  only use new hyper parameter if better by thresh amount\n",
    "    if(acc > best_acc):\n",
    "        best_acc = acc\n",
    "        best_c = c\n",
    "\n",
    "print(best_acc)\n",
    "clf = linear_model.LogisticRegression(penalty='l1', C=best_c, \n",
    "                                                  intercept_scaling=1, \n",
    "                                                  solver='liblinear',\n",
    "                                                  max_iter=1000)\n",
    "clf.fit(X_train,y_train)\n",
    "coef = clf.coef_[0]\n",
    "pos = [x for x in range(0,len(coef))]\n",
    "plt.bar(pos,coef, align='center', alpha=0.5)"
   ]
  },
  {
   "cell_type": "code",
   "execution_count": null,
   "metadata": {},
   "outputs": [],
   "source": [
    "print(usecols)\n",
    "len(usecols)"
   ]
  },
  {
   "cell_type": "markdown",
   "metadata": {},
   "source": [
    "### Retrained the model with only 7 features "
   ]
  },
  {
   "cell_type": "code",
   "execution_count": 17,
   "metadata": {},
   "outputs": [
    {
     "name": "stdout",
     "output_type": "stream",
     "text": [
      "0.6787762906309751\n"
     ]
    },
    {
     "data": {
      "text/plain": [
       "<BarContainer object of 7 artists>"
      ]
     },
     "execution_count": 17,
     "metadata": {},
     "output_type": "execute_result"
    },
    {
     "data": {
      "image/png": "[encoded data removed]",
      "text/plain": [
       "<Figure size 432x288 with 1 Axes>"
      ]
     },
     "metadata": {},
     "output_type": "display_data"
    }
   ],
   "source": [
    "usecols = [df.columns[0],df.columns[5],df.columns[6],df.columns[9],df.columns[10],df.columns[15],df.columns[16],df.columns[-1]]\n",
    "\n",
    "new_df =  df[usecols]\n",
    "X = new_df.drop('y', axis= 1)\n",
    "# X = X[:1000]\n",
    "Y = new_df['y']\n",
    "# Y = Y[:1000]\n",
    "\n",
    "C = [0.003, 0.01,0.03, 0.1, 0.3, 1,3,10,30,100,300,1000, 3000, 10000, 30000, 100000, 300000]\n",
    "best_acc = 0\n",
    "best_c = None\n",
    "X_train, X_test, y_train, y_test = train_test_split(X,Y)\n",
    "\n",
    "for c in C:\n",
    "        clf = linear_model.LogisticRegression(penalty='l1', C=c, \n",
    "                                                      intercept_scaling=1, \n",
    "                                                      solver='liblinear',\n",
    "                                                      max_iter=1000)\n",
    "        \n",
    "        clf.fit(X_train, y_train)\n",
    "        y_pred = clf.predict(X_test.values)\n",
    "        acc = metrics.accuracy_score(y_pred,y_test)\n",
    "        \n",
    "    #  only use new hyper parameter if better by thresh amount\n",
    "        if(acc > best_acc):\n",
    "            best_acc = acc\n",
    "            best_c = c\n",
    "\n",
    "print(best_acc)\n",
    "clf = linear_model.LogisticRegression(penalty='l1', C=best_c, \n",
    "                                                  intercept_scaling=1, \n",
    "                                                  solver='liblinear',\n",
    "                                                  max_iter=1000)\n",
    "clf.fit(X_train,y_train)\n",
    "coef = clf.coef_[0]\n",
    "pos = [x for x in range(0,len(coef))]\n",
    "plt.bar(pos,coef, align='center', alpha=0.5)"
   ]
  },
  {
   "cell_type": "markdown",
   "metadata": {},
   "source": [
    "### Uses sklearns built in method to select features and retrain model to find performance"
   ]
  },
  {
   "cell_type": "code",
   "execution_count": null,
   "metadata": {},
   "outputs": [],
   "source": [
    "from sklearn.feature_selection import SelectKBest, f_regression\n",
    "\n",
    "selector = SelectKBest(f_regression, k=7)\n",
    "selector.fit(X, Y)\n",
    "# Get columns to keep\n",
    "cols = selector.get_support(indices=True)"
   ]
  },
  {
   "cell_type": "code",
   "execution_count": null,
   "metadata": {},
   "outputs": [],
   "source": [
    "sklearn_cols = []\n",
    "for col in cols:\n",
    "    sklearn_cols.append(df.columns[col])\n",
    "sklearn_cols.append('y')"
   ]
  },
  {
   "cell_type": "code",
   "execution_count": null,
   "metadata": {},
   "outputs": [],
   "source": [
    "new_df =  df[sklearn_cols]\n",
    "X = new_df.drop('y', axis= 1)\n",
    "# X = X[:1000]\n",
    "Y = new_df['y']\n",
    "# Y = Y[:1000]\n",
    "\n",
    "C = [0.003, 0.01,0.03, 0.1, 0.3, 1,3,10,30,100,300,1000, 3000, 10000, 30000, 100000, 300000]\n",
    "best_acc = 0\n",
    "best_c = None\n",
    "X_train, X_test, y_train, y_test = train_test_split(X,Y)\n",
    "\n",
    "for c in C:\n",
    "        clf = linear_model.LogisticRegression(penalty='l1', C=c, \n",
    "                                                      intercept_scaling=1, \n",
    "                                                      solver='liblinear',\n",
    "                                                      max_iter=1000)\n",
    "        \n",
    "        clf.fit(X_train, y_train)\n",
    "        y_pred = clf.predict(X_test.values)\n",
    "        acc = metrics.accuracy_score(y_pred,y_test)\n",
    "        \n",
    "    #  only use new hyper parameter if better by thresh amount\n",
    "        if(acc > best_acc):\n",
    "            best_acc = acc\n",
    "            best_c = c\n",
    "\n",
    "print(best_acc)\n",
    "clf = linear_model.LogisticRegression(penalty='l1', C=best_c, \n",
    "                                                  intercept_scaling=1, \n",
    "                                                  solver='liblinear',\n",
    "                                                  max_iter=1000)\n",
    "clf.fit(X_train,y_train)\n",
    "coef = clf.coef_[0]\n",
    "pos = [x for x in range(0,len(coef))]\n",
    "plt.bar(pos,coef, align='center', alpha=0.5)"
   ]
  },
  {
   "cell_type": "markdown",
   "metadata": {},
   "source": [
    "### Retrain model on all data and test on one sample"
   ]
  },
  {
   "cell_type": "code",
   "execution_count": 18,
   "metadata": {},
   "outputs": [
    {
     "data": {
      "text/plain": [
       "0"
      ]
     },
     "execution_count": 18,
     "metadata": {},
     "output_type": "execute_result"
    }
   ],
   "source": [
    "clf.fit(new_df[usecols[:-1]].values,new_df[usecols[-1]].values)\n",
    "sample_test = [[60,2,1,4,5,2,0]]\n",
    "clf.predict(sample_test)[0]"
   ]
  },
  {
   "cell_type": "code",
   "execution_count": null,
   "metadata": {},
   "outputs": [],
   "source": []
  },
  {
   "cell_type": "code",
   "execution_count": 35,
   "metadata": {},
   "outputs": [],
   "source": [
    "df = pd.read_csv('../data/heloc_dataset_v1.csv')\n",
    "df = pd.DataFrame(df)\n",
    "\n",
    "data_cutoffs = {}\n",
    "\n",
    "cols = ['ExternalRiskEstimate', 'NumTrades60Ever2DerogPubRec', 'NumTrades90Ever2DerogPubRec', 'MaxDelq2PublicRecLast12M', 'MaxDelqEver', 'NumInqLast6M', 'NumInqLast6Mexcl7days']\n",
    "for i in cols:\n",
    "#     print(df[i].describe())\n",
    "    percentiles = pd.Series(df[i])\n",
    "    x = percentiles.quantile([.4,.6])\n",
    "    vals = x.values                            \n",
    "    if i == cols[0] or i == cols[6]:\n",
    "         data_cutoffs[i] = [-1 * vals[1], -1 * vals[0]]\n",
    "    else:\n",
    "        data_cutoffs[i] = [vals[0], vals[1]]"
   ]
  },
  {
   "cell_type": "markdown",
   "metadata": {},
   "source": [
    "# GUI"
   ]
  },
  {
   "cell_type": "code",
   "execution_count": 37,
   "metadata": {},
   "outputs": [],
   "source": [
    "# %%python\n",
    "from tkinter import Tk, Label, Button, Entry, IntVar, StringVar, END, W, E\n",
    "\n",
    "class Calculator:\n",
    "\n",
    "    def __init__(self, master):\n",
    "        self.master = master\n",
    "        master.title(\"Sub Prime Mortgage\")\n",
    "        vcmd = master.register(self.validate) # we have to wrap the command\n",
    "        \n",
    "        # LISTS TO CONTAIN REFERENCES TO WIDGETS\n",
    "        self.param_values = list()\n",
    "        self.param_value_types = list()\n",
    "        self.param_labels = list()\n",
    "        self.param_entries = list()\n",
    "        \n",
    "        # CREATING WIDGETS (ENTRIES AND LABELS)\n",
    "        for var in cols:\n",
    "            param_value = 0\n",
    "            param_label = Label(master, text=var)\n",
    "            param = IntVar()\n",
    "            param.set(param_value)\n",
    "            param_entry = Entry(master, validate=\"key\", validatecommand=(vcmd, '%P'))\n",
    "            \n",
    "            self.param_values.append(param_value)\n",
    "            self.param_labels.append(param_label)\n",
    "            self.param_value_types.append(param)\n",
    "            self.param_entries.append(param_entry)\n",
    "        \n",
    "        self.result_label_text = StringVar()\n",
    "        self.result_label = Label(master, textvariable=self.result_label_text)\n",
    "        self.submit_button = Button(master, text=\"Submit\", command=lambda: self.update(\"submit\"))\n",
    "        \n",
    "        # LAYOUT\n",
    "        for i in range(0, len(self.param_labels)):\n",
    "            self.param_labels[i].grid(row=i, column=0, sticky=W)\n",
    "            self.param_entries[i].grid(row=i, column=1, columnspan=2, sticky=E)\n",
    "        self.submit_button.grid(row=len(self.param_entries), column=1)\n",
    "        self.result_label.grid(row=len(self.param_entries) + 1, column=1)\n",
    "\n",
    "    def validate(self, new_text):\n",
    "        if not new_text: # the field is being cleared\n",
    "            self.entered_number = 0\n",
    "            return True \n",
    "        try:\n",
    "            self.entered_number = int(new_text)\n",
    "            return True\n",
    "        except ValueError:\n",
    "            return False\n",
    "\n",
    "    def update_background_color(self):\n",
    "        i = 0\n",
    "        for entry in self.param_entries:\n",
    "            param = cols[i]\n",
    "            threshold = data_cutoffs[param]\n",
    "            entry_value = float(entry.get())\n",
    "            \n",
    "            # case where coefficients are positive\n",
    "            if param == 'ExternalRiskEstimate' or param == 'NumInqLast6Mexcl7days':\n",
    "                entry_value = entry_value * -1 if entry_value == abs(entry_value) else entry_value\n",
    "\n",
    "            if entry_value < threshold[0]:\n",
    "                entry.config({\"background\": \"#baef56\"}) # green\n",
    "            elif entry_value < threshold[1]:\n",
    "                entry.config({\"background\": \"#fffd9b\"}) # yellow\n",
    "            else:\n",
    "                entry.config({\"background\": \"#f7c0c0\"}) # red\n",
    "            i = i + 1\n",
    "    \n",
    "    def update_result_label(self):\n",
    "        entry_vals = [[float(entry.get()) for entry in self.param_entries]]\n",
    "        prediction = clf.predict(entry_vals)[0]\n",
    "        self.result_label_text.set(\"Result: \" + str(prediction))\n",
    "\n",
    "    def update(self, method):\n",
    "        if method == \"submit\":\n",
    "            self.update_background_color()\n",
    "            self.update_result_label()            \n",
    "                \n",
    "root = Tk()\n",
    "my_gui = Calculator(root)\n",
    "root.mainloop()"
   ]
  },
  {
   "cell_type": "code",
   "execution_count": null,
   "metadata": {},
   "outputs": [],
   "source": []
  }
 ],
 "metadata": {
  "kernelspec": {
   "display_name": "Python 3",
   "language": "python",
   "name": "python3"
  },
  "language_info": {
   "codemirror_mode": {
    "name": "ipython",
    "version": 3
   },
   "file_extension": ".py",
   "mimetype": "text/x-python",
   "name": "python",
   "nbconvert_exporter": "python",
   "pygments_lexer": "ipython3",
   "version": "3.6.5"
  },
  "toc": {
   "base_numbering": 1,
   "nav_menu": {},
   "number_sections": false,
   "sideBar": false,
   "skip_h1_title": false,
   "title_cell": "Table of Contents",
   "title_sidebar": "Contents",
   "toc_cell": false,
   "toc_position": {},
   "toc_section_display": false,
   "toc_window_display": false
  }
 },
 "nbformat": 4,
 "nbformat_minor": 2
}
