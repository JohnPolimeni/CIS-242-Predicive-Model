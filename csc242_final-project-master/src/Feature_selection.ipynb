{
 "cells": [
  {
   "cell_type": "code",
   "execution_count": 1,
   "metadata": {},
   "outputs": [],
   "source": [
    "import pandas as pd\n",
    "from sklearn.model_selection import train_test_split\n",
    "from sklearn.preprocessing import StandardScaler\n",
    "from sklearn.model_selection import GridSearchCV\n",
    "from sklearn.svm import SVC\n",
    "import numpy as np\n",
    "from sklearn.metrics import accuracy_score\n",
    "import warnings\n",
    "warnings.filterwarnings('ignore')\n",
    "from sklearn import linear_model, metrics\n",
    "import matplotlib.pyplot as plt"
   ]
  },
  {
   "cell_type": "code",
   "execution_count": 2,
   "metadata": {},
   "outputs": [],
   "source": [
    "df = pd.read_csv('../data/final_cleaned.csv')"
   ]
  },
  {
   "cell_type": "code",
   "execution_count": 3,
   "metadata": {},
   "outputs": [],
   "source": [
    "del df['Unnamed: 0']"
   ]
  },
  {
   "cell_type": "code",
   "execution_count": 4,
   "metadata": {},
   "outputs": [],
   "source": [
    "del df['Unnamed: 0.1']"
   ]
  },
  {
   "cell_type": "code",
   "execution_count": 5,
   "metadata": {},
   "outputs": [
    {
     "data": {
      "text/plain": [
       "(9861, 24)"
      ]
     },
     "execution_count": 5,
     "metadata": {},
     "output_type": "execute_result"
    }
   ],
   "source": [
    "df.shape"
   ]
  },
  {
   "cell_type": "code",
   "execution_count": 6,
   "metadata": {},
   "outputs": [],
   "source": [
    "from sklearn.svm import SVC\n",
    "from sklearn.linear_model import LogisticRegression\n",
    "from sklearn.discriminant_analysis import LinearDiscriminantAnalysis\n",
    "from sklearn.neighbors import KNeighborsClassifier\n",
    "from sklearn.naive_bayes import GaussianNB\n",
    "from sklearn.tree import DecisionTreeClassifier\n",
    "from sklearn.discriminant_analysis import QuadraticDiscriminantAnalysis\n",
    "from sklearn.ensemble import RandomForestClassifier, AdaBoostClassifier\n",
    "    \n",
    "# The function `init_classifiers` returns a list of classifiers to be trained on the datasets\n",
    "def init_classifiers():\n",
    "    return([(SVC(), model_names[0], param_grid_svc), \n",
    "            (LogisticRegression(), model_names[1], param_grid_logistic),\n",
    "            (KNeighborsClassifier(), model_names[2], param_grid_knn),\n",
    "            (GaussianNB(), model_names[3], param_grid_nb),\n",
    "            (DecisionTreeClassifier(), model_names[4], param_grid_tree),\n",
    "            (RandomForestClassifier(), model_names[6], param_grid_rf),\n",
    "            (AdaBoostClassifier(), model_names[7], param_grid_boost)\n",
    "           ])\n",
    "\n",
    "# 'model_names' contains the names  that we will use for the above classifiers\n",
    "model_names = ['SVM','LR','KNN','NB','Tree','QDA','RF','Boosting']\n",
    "\n",
    "# the training parameters of each model\n",
    "param_grid_svc = [{'C':[0.1,1],'kernel':['rbf','linear'], 'max_iter':[-1],'random_state':[1]}]\n",
    "param_grid_logistic = [{'C':[0.1,1], 'penalty':['l1','l2'],'random_state':[1]}]\n",
    "param_grid_knn = [{},{'n_neighbors':[1,2,3,4]}]\n",
    "param_grid_nb = [{}]\n",
    "param_grid_tree = [{'random_state':[1]},{'criterion':['gini'], 'max_depth':[2,3], 'min_samples_split':[3,5],'random_state':[1]}]\n",
    "param_grid_rf = [{'random_state':[1]},{'n_estimators':[10,30],'max_features':[0.2, 0.3], 'bootstrap':[True],'random_state':[1]}]\n",
    "param_grid_boost = [{'random_state':[1]},{'n_estimators':[10,20],'learning_rate':[0.1,1],'random_state':[1]}]"
   ]
  },
  {
   "cell_type": "code",
   "execution_count": 7,
   "metadata": {},
   "outputs": [],
   "source": [
    "from sklearn.svm import SVC\n",
    "from sklearn.linear_model import LogisticRegression\n",
    "    \n",
    "# The function `init_classifiers` returns a list of classifiers to be trained on the datasets\n",
    "def init_classifiers():\n",
    "    return([(SVC(), model_names[0], param_grid_svc), \n",
    "            (LogisticRegression(), model_names[1], param_grid_logistic)])\n",
    "\n",
    "# 'model_names' contains the names  that we will use for the above classifiers\n",
    "model_names = ['SVM','LR']\n",
    "\n",
    "# the training parameters of each model\n",
    "param_grid_svc = [{'C':[0.1,1],'kernel':['rbf','linear'], 'max_iter':[-1],'random_state':[1]}]\n",
    "param_grid_logistic = [{'C':[0.1,1], 'penalty':['l1','l2'],'random_state':[1]}]\n"
   ]
  },
  {
   "cell_type": "code",
   "execution_count": 8,
   "metadata": {},
   "outputs": [],
   "source": [
    "X = df.drop('y', axis= 1)\n",
    "# X = X[:1000]\n",
    "Y = df['y']\n",
    "# Y = Y[:1000]\n"
   ]
  },
  {
   "cell_type": "code",
   "execution_count": 11,
   "metadata": {},
   "outputs": [],
   "source": [
    "models = init_classifiers()"
   ]
  },
  {
   "cell_type": "code",
   "execution_count": 12,
   "metadata": {},
   "outputs": [
    {
     "data": {
      "text/plain": [
       "'LR'"
      ]
     },
     "execution_count": 12,
     "metadata": {},
     "output_type": "execute_result"
    }
   ],
   "source": [
    "models[1][1]"
   ]
  },
  {
   "cell_type": "code",
   "execution_count": null,
   "metadata": {},
   "outputs": [],
   "source": [
    "for model in models:\n",
    "    \n",
    "#     X_train, X_test, y_train, y_test = train_test_split(X,Y)\n",
    "\n",
    "    clf = GridSearchCV(model[0],model[2],cv = 2)\n",
    "\n",
    "    clf.fit(X,Y)\n",
    "        \n",
    "    y_pred = clf.predict(X)\n",
    "\n",
    "    print('Model ', model)\n",
    "    acc = accuracy_score(Y,y_pred)\n",
    "    print('Accuracy ', acc)"
   ]
  },
  {
   "cell_type": "markdown",
   "metadata": {},
   "source": [
    "### Train the model using all the data, find best hyperparameter"
   ]
  },
  {
   "cell_type": "code",
   "execution_count": 9,
   "metadata": {},
   "outputs": [
    {
     "name": "stdout",
     "output_type": "stream",
     "text": [
      "0.718978102189781\n"
     ]
    },
    {
     "data": {
      "text/plain": [
       "<BarContainer object of 23 artists>"
      ]
     },
     "execution_count": 9,
     "metadata": {},
     "output_type": "execute_result"
    },
    {
     "data": {
      "image/png": "[encoded data removed]",
      "text/plain": [
       "<Figure size 432x288 with 1 Axes>"
      ]
     },
     "metadata": {},
     "output_type": "display_data"
    }
   ],
   "source": [
    "X = df.drop('y', axis= 1)\n",
    "# X = X[:1000]\n",
    "Y = df['y']\n",
    "# Y = Y[:1000]\n",
    "\n",
    "C = [0.003, 0.01,0.03, 0.1, 0.3, 1,3,10,30,100,300,1000, 3000, 10000, 30000, 100000, 300000]\n",
    "best_acc = 0\n",
    "best_c = None\n",
    "X_train, X_test, y_train, y_test = train_test_split(X,Y)\n",
    "\n",
    "for c in C:\n",
    "        clf = linear_model.LogisticRegression(penalty='l1', C=c, \n",
    "                                                      intercept_scaling=1, \n",
    "                                                      solver='liblinear',\n",
    "                                                      max_iter=1000)\n",
    "        \n",
    "        clf.fit(X_train, y_train)\n",
    "        y_pred = clf.predict(X_test.values)\n",
    "        acc = metrics.accuracy_score(y_pred,y_test)\n",
    "        \n",
    "    #  only use new hyper parameter if better by thresh amount\n",
    "        if(acc > best_acc):\n",
    "            best_acc = acc\n",
    "            best_c = c\n",
    "\n",
    "print(best_acc)\n",
    "clf = linear_model.LogisticRegression(penalty='l1', C=best_c, \n",
    "                                                  intercept_scaling=1, \n",
    "                                                  solver='liblinear',\n",
    "                                                  max_iter=1000)\n",
    "clf.fit(X,Y)\n",
    "coef = clf.coef_[0]\n",
    "pos = [x for x in range(0,len(coef))]\n",
    "plt.bar(pos,coef, align='center', alpha=0.5)"
   ]
  },
  {
   "cell_type": "markdown",
   "metadata": {},
   "source": [
    "### Train the model using only the 9 heighest weights from the coefficient graph above"
   ]
  },
  {
   "cell_type": "code",
   "execution_count": 10,
   "metadata": {},
   "outputs": [],
   "source": [
    "positive_coef = [abs(number) for number in coef]\n",
    "real_coef = positive_coef.copy()"
   ]
  },
  {
   "cell_type": "code",
   "execution_count": 11,
   "metadata": {},
   "outputs": [],
   "source": [
    "positive_coef.sort()\n",
    "positive_coef.reverse()"
   ]
  },
  {
   "cell_type": "code",
   "execution_count": 12,
   "metadata": {},
   "outputs": [
    {
     "data": {
      "text/plain": [
       "[15, 16, 21, 9, 19, 14, 10, 0, 4]"
      ]
     },
     "execution_count": 12,
     "metadata": {},
     "output_type": "execute_result"
    }
   ],
   "source": [
    "n = 9\n",
    "\n",
    "top_coefs = positive_coef[:n]\n",
    "\n",
    "col_indices = []\n",
    "for num in top_coefs:\n",
    "    for i,x in enumerate(real_coef):\n",
    "        if x == num:\n",
    "            col_indices.append(i)\n",
    "col_indices"
   ]
  },
  {
   "cell_type": "code",
   "execution_count": 13,
   "metadata": {},
   "outputs": [
    {
     "data": {
      "text/plain": [
       "['ExternalRiskEstimate',\n",
       " 'NumSatisfactoryTrades',\n",
       " 'MaxDelq2PublicRecLast12M',\n",
       " 'MaxDelqEver',\n",
       " 'MSinceMostRecentInqexcl7days',\n",
       " 'NumInqLast6M',\n",
       " 'NumInqLast6Mexcl7days',\n",
       " 'NumRevolvingTradesWBalance',\n",
       " 'NumBank2NatlTradesWHighUtilization',\n",
       " 'y']"
      ]
     },
     "execution_count": 13,
     "metadata": {},
     "output_type": "execute_result"
    }
   ],
   "source": [
    "usecols = []\n",
    "for i,col in enumerate(df.columns):\n",
    "    if i in col_indices:\n",
    "        usecols.append(col)\n",
    "usecols.append('y')\n",
    "usecols"
   ]
  },
  {
   "cell_type": "code",
   "execution_count": 14,
   "metadata": {},
   "outputs": [
    {
     "name": "stdout",
     "output_type": "stream",
     "text": [
      "0.7388483373884833\n"
     ]
    },
    {
     "data": {
      "text/plain": [
       "<BarContainer object of 9 artists>"
      ]
     },
     "execution_count": 14,
     "metadata": {},
     "output_type": "execute_result"
    },
    {
     "data": {
      "image/png": "[encoded data removed]",
      "text/plain": [
       "<Figure size 432x288 with 1 Axes>"
      ]
     },
     "metadata": {},
     "output_type": "display_data"
    }
   ],
   "source": [
    "\n",
    "new_df =  df[usecols]\n",
    "X = new_df.drop('y', axis= 1)\n",
    "Y = new_df['y']\n",
    "\n",
    "C = [0.003, 0.01,0.03, 0.1, 0.3, 1,3,10,30,100,300,1000, 3000, 10000, 30000, 100000, 300000]\n",
    "best_acc = 0\n",
    "best_c = None\n",
    "X_train, X_test, y_train, y_test = train_test_split(X,Y)\n",
    "\n",
    "for c in C:\n",
    "    clf = linear_model.LogisticRegression(penalty='l1', C=c, \n",
    "                                                      intercept_scaling=1, \n",
    "                                                      solver='liblinear',\n",
    "                                                      max_iter=1000)\n",
    "        \n",
    "    clf.fit(X_train, y_train)\n",
    "    y_pred = clf.predict(X_test.values)\n",
    "    acc = metrics.accuracy_score(y_pred,y_test)\n",
    "\n",
    "#  only use new hyper parameter if better by thresh amount\n",
    "    if(acc > best_acc):\n",
    "        best_acc = acc\n",
    "        best_c = c\n",
    "\n",
    "print(best_acc)\n",
    "clf = linear_model.LogisticRegression(penalty='l1', C=best_c, \n",
    "                                                  intercept_scaling=1, \n",
    "                                                  solver='liblinear',\n",
    "                                                  max_iter=1000)\n",
    "clf.fit(X_train,y_train)\n",
    "coef = clf.coef_[0]\n",
    "pos = [x for x in range(0,len(coef))]\n",
    "plt.bar(pos,coef, align='center', alpha=0.5)"
   ]
  },
  {
   "cell_type": "code",
   "execution_count": 15,
   "metadata": {},
   "outputs": [
    {
     "data": {
      "text/plain": [
       "['ExternalRiskEstimate',\n",
       " 'MSinceOldestTradeOpen',\n",
       " 'MSinceMostRecentTradeOpen',\n",
       " 'NumSatisfactoryTrades',\n",
       " 'NumTrades60Ever2DerogPubRec',\n",
       " 'NumTrades90Ever2DerogPubRec',\n",
       " 'MSinceMostRecentDelq',\n",
       " 'y']"
      ]
     },
     "execution_count": 15,
     "metadata": {},
     "output_type": "execute_result"
    }
   ],
   "source": [
    "positive_coef = [abs(number) for number in coef]\n",
    "real_coef = positive_coef.copy()\n",
    "positive_coef.sort()\n",
    "positive_coef.reverse()\n",
    "n = 7\n",
    "\n",
    "top_coefs = positive_coef[:n]\n",
    "\n",
    "col_indices = []\n",
    "for num in top_coefs:\n",
    "    for i,x in enumerate(real_coef):\n",
    "        if x == num:\n",
    "            col_indices.append(i)\n",
    "\n",
    "usecols = []\n",
    "for i,col in enumerate(df.columns):\n",
    "    if i in col_indices:\n",
    "        usecols.append(col)\n",
    "usecols.append('y')\n",
    "usecols"
   ]
  },
  {
   "cell_type": "markdown",
   "metadata": {},
   "source": [
    "### Retrained the model with only 7 features "
   ]
  },
  {
   "cell_type": "code",
   "execution_count": 16,
   "metadata": {},
   "outputs": [
    {
     "name": "stdout",
     "output_type": "stream",
     "text": [
      "0.7335766423357665\n"
     ]
    },
    {
     "data": {
      "text/plain": [
       "<BarContainer object of 7 artists>"
      ]
     },
     "execution_count": 16,
     "metadata": {},
     "output_type": "execute_result"
    },
    {
     "data": {
      "image/png": "[encoded data removed]",
      "text/plain": [
       "<Figure size 432x288 with 1 Axes>"
      ]
     },
     "metadata": {},
     "output_type": "display_data"
    }
   ],
   "source": [
    "new_df =  df[usecols]\n",
    "X = new_df.drop('y', axis= 1)\n",
    "Y = new_df['y']\n",
    "\n",
    "C = [0.003, 0.01,0.03, 0.1, 0.3, 1,3,10,30,100,300,1000, 3000, 10000, 30000, 100000, 300000]\n",
    "best_acc = 0\n",
    "best_c = None\n",
    "X_train, X_test, y_train, y_test = train_test_split(X,Y)\n",
    "\n",
    "for c in C:\n",
    "        clf = linear_model.LogisticRegression(penalty='l1', C=c, \n",
    "                                                      intercept_scaling=1, \n",
    "                                                      solver='liblinear',\n",
    "                                                      max_iter=1000)\n",
    "        \n",
    "        clf.fit(X_train, y_train)\n",
    "        y_pred = clf.predict(X_test.values)\n",
    "        acc = metrics.accuracy_score(y_pred,y_test)\n",
    "        \n",
    "    #  only use new hyper parameter if better by thresh amount\n",
    "        if(acc > best_acc):\n",
    "            best_acc = acc\n",
    "            best_c = c\n",
    "\n",
    "print(best_acc)\n",
    "clf = linear_model.LogisticRegression(penalty='l1', C=best_c, \n",
    "                                                  intercept_scaling=1, \n",
    "                                                  solver='liblinear',\n",
    "                                                  max_iter=1000)\n",
    "clf.fit(X_train,y_train)\n",
    "coef = clf.coef_[0]\n",
    "pos = [x for x in range(0,len(coef))]\n",
    "plt.bar(pos,coef, align='center', alpha=0.5)"
   ]
  },
  {
   "cell_type": "markdown",
   "metadata": {},
   "source": [
    "### Uses sklearns built in method to select features and retrain model to find performance"
   ]
  },
  {
   "cell_type": "code",
   "execution_count": 23,
   "metadata": {},
   "outputs": [],
   "source": [
    "from sklearn.feature_selection import SelectKBest, f_regression\n",
    "\n",
    "X = df.drop('y', axis= 1)\n",
    "Y = df['y']\n",
    "\n",
    "selector = SelectKBest(f_regression, k=9)\n",
    "selector.fit(X, Y)\n",
    "# Get columns to keep\n",
    "cols = selector.get_support(indices=True)"
   ]
  },
  {
   "cell_type": "code",
   "execution_count": 24,
   "metadata": {},
   "outputs": [],
   "source": [
    "sklearn_cols = []\n",
    "for col in cols:\n",
    "    sklearn_cols.append(df.columns[col])\n",
    "sklearn_cols.append('y')"
   ]
  },
  {
   "cell_type": "code",
   "execution_count": 25,
   "metadata": {},
   "outputs": [
    {
     "name": "stdout",
     "output_type": "stream",
     "text": [
      "0.7222222222222222\n"
     ]
    },
    {
     "data": {
      "text/plain": [
       "<BarContainer object of 9 artists>"
      ]
     },
     "execution_count": 25,
     "metadata": {},
     "output_type": "execute_result"
    },
    {
     "data": {
      "image/png": "[encoded data removed]",
      "text/plain": [
       "<Figure size 432x288 with 1 Axes>"
      ]
     },
     "metadata": {},
     "output_type": "display_data"
    }
   ],
   "source": [
    "new_df =  df[sklearn_cols]\n",
    "X = new_df.drop('y', axis= 1)\n",
    "# X = X[:1000]\n",
    "Y = new_df['y']\n",
    "# Y = Y[:1000]\n",
    "\n",
    "C = [0.003, 0.01,0.03, 0.1, 0.3, 1,3,10,30,100,300,1000, 3000, 10000, 30000, 100000, 300000]\n",
    "best_acc = 0\n",
    "best_c = None\n",
    "X_train, X_test, y_train, y_test = train_test_split(X,Y)\n",
    "\n",
    "for c in C:\n",
    "        clf = linear_model.LogisticRegression(penalty='l1', C=c, \n",
    "                                                      intercept_scaling=1, \n",
    "                                                      solver='liblinear',\n",
    "                                                      max_iter=1000)\n",
    "        \n",
    "        clf.fit(X_train, y_train)\n",
    "        y_pred = clf.predict(X_test.values)\n",
    "        acc = metrics.accuracy_score(y_pred,y_test)\n",
    "        \n",
    "    #  only use new hyper parameter if better by thresh amount\n",
    "        if(acc > best_acc):\n",
    "            best_acc = acc\n",
    "            best_c = c\n",
    "\n",
    "print(best_acc)\n",
    "clf = linear_model.LogisticRegression(penalty='l1', C=best_c, \n",
    "                                                  intercept_scaling=1, \n",
    "                                                  solver='liblinear',\n",
    "                                                  max_iter=1000)\n",
    "clf.fit(X_train,y_train)\n",
    "coef = clf.coef_[0]\n",
    "pos = [x for x in range(0,len(coef))]\n",
    "plt.bar(pos,coef, align='center', alpha=0.5)"
   ]
  },
  {
   "cell_type": "code",
   "execution_count": null,
   "metadata": {},
   "outputs": [],
   "source": []
  }
 ],
 "metadata": {
  "kernelspec": {
   "display_name": "Python 3",
   "language": "python",
   "name": "python3"
  },
  "language_info": {
   "codemirror_mode": {
    "name": "ipython",
    "version": 3
   },
   "file_extension": ".py",
   "mimetype": "text/x-python",
   "name": "python",
   "nbconvert_exporter": "python",
   "pygments_lexer": "ipython3",
   "version": "3.6.5"
  },
  "toc": {
   "base_numbering": 1,
   "nav_menu": {},
   "number_sections": false,
   "sideBar": false,
   "skip_h1_title": false,
   "title_cell": "Table of Contents",
   "title_sidebar": "Contents",
   "toc_cell": false,
   "toc_position": {},
   "toc_section_display": false,
   "toc_window_display": false
  }
 },
 "nbformat": 4,
 "nbformat_minor": 2
}
